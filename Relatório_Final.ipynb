{
  "nbformat": 4,
  "nbformat_minor": 0,
  "metadata": {
    "colab": {
      "provenance": [],
      "authorship_tag": "ABX9TyOybAEPXhdka6LMiQKwM3q3",
      "include_colab_link": true
    },
    "kernelspec": {
      "name": "python3",
      "display_name": "Python 3"
    },
    "language_info": {
      "name": "python"
    }
  },
  "cells": [
    {
      "cell_type": "markdown",
      "metadata": {
        "id": "view-in-github",
        "colab_type": "text"
      },
      "source": [
        "<a href=\"https://colab.research.google.com/github/DuillesAD/Challenge-Telecon-X-analise-de-dados/blob/main/Relat%C3%B3rio_Final.ipynb\" target=\"_parent\"><img src=\"https://colab.research.google.com/assets/colab-badge.svg\" alt=\"Open In Colab\"/></a>"
      ]
    },
    {
      "cell_type": "markdown",
      "source": [
        "# 📊 Relatório Analítico - Evasão de Clientes na Telecom X\n",
        "\n",
        "---\n",
        "\n",
        "## 1. Introdução\n",
        "\n",
        "A evasão de clientes (também chamada de **churn**) representa a perda de usuários que deixam de utilizar os serviços da empresa. No setor de telecomunicações, essa métrica é crítica, pois manter um cliente existente costuma ser mais barato do que adquirir um novo.\n",
        "\n",
        "Este relatório visa identificar padrões de evasão a partir de um conjunto de dados da empresa fictícia **Telecom X**. Utilizamos técnicas de ciência de dados para importar, tratar e explorar os dados, a fim de gerar insights que possam orientar ações estratégicas para a **retenção de clientes**.\n",
        "\n",
        "---\n",
        "\n",
        "## 2. Limpeza e Tratamento de Dados\n",
        "\n",
        "Os dados foram fornecidos no formato JSON e passaram pelas seguintes etapas:\n",
        "\n",
        "### 🔹 Importação dos Dados\n",
        "- Utilizado o pacote `json` para leitura.\n",
        "- Normalização com `pandas.json_normalize` para transformar dados aninhados em um DataFrame plano.\n",
        "\n",
        "### 🔹 Verificação de Qualidade\n",
        "- **Tipos de Dados**: Ajustados para formatos corretos (por exemplo, conversão de strings para números).\n",
        "- **Valores Ausentes**: Removidos ou substituídos com base na estratégia adequada por coluna.\n",
        "- **Colunas Renomeadas**: Para facilitar a leitura e manter consistência nos gráficos e análises.\n",
        "\n",
        "### 🔹 Tratamentos Específicos\n",
        "- Agrupamento de categorias semelhantes (ex: formas de pagamento).\n",
        "- Criação de variáveis derivadas como tempo de contrato e uso de serviços adicionais.\n",
        "\n",
        "---\n",
        "\n",
        "## 3. Análise Exploratória de Dados (EDA)\n",
        "\n",
        "A seguir, destacamos as principais análises e visualizações feitas com foco na variável `Churn` (evasão):\n"
      ],
      "metadata": {
        "id": "P5rDJcH0rHb2"
      }
    },
    {
      "cell_type": "code",
      "source": [],
      "metadata": {
        "id": "lG2sEST1rG-r"
      },
      "execution_count": null,
      "outputs": []
    },
    {
      "cell_type": "code",
      "source": [],
      "metadata": {
        "id": "Nhc_eV_vqOlQ"
      },
      "execution_count": null,
      "outputs": []
    }
  ]
}